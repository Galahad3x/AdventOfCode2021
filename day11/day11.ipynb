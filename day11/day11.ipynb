{
 "cells": [
  {
   "cell_type": "code",
   "execution_count": null,
   "metadata": {},
   "outputs": [],
   "source": []
  },
  {
   "cell_type": "code",
   "execution_count": 144,
   "metadata": {},
   "outputs": [],
   "source": [
    "input_grid = ['5433566276',\n",
    "              '6376253438',\n",
    "              '8458636316',\n",
    "              '6253254525',\n",
    "              '7211137138',\n",
    "              '1411526532',\n",
    "              '5788761424',\n",
    "              '8677841514',\n",
    "              '1622331631',\n",
    "              '5876712227']\n",
    "easy_input = ['5483143223',\n",
    "              '2745854711',\n",
    "              '5264556173',\n",
    "              '6141336146',\n",
    "              '6357385478',\n",
    "              '4167524645',\n",
    "              '2176841721',\n",
    "              '6882881134',\n",
    "              '4846848554',\n",
    "              '5283751526']"
   ]
  },
  {
   "cell_type": "code",
   "execution_count": 145,
   "metadata": {},
   "outputs": [],
   "source": [
    "# Part 1\n",
    "# Creating grid with diagonals\n",
    "v_c = len(input_grid)\n",
    "h_c = len(input_grid[0])\n",
    "g = graphs.GridGraph((h_c, v_c))\n",
    "for i in range(v_c):\n",
    "    for j in range(h_c):\n",
    "        for mod1 in [-1, 0, 1]:\n",
    "            for mod2 in [-1, 0, 1]:\n",
    "                if not g.has_edge((i,j),(i + mod1, j + mod2)) and 0 <= i + mod1 < v_c and 0 <= j + mod2 < h_c:\n",
    "                    if i + mod1 != i or j + mod2 != j:\n",
    "                        g.add_edge((i,j),(i + mod1, j + mod2))"
   ]
  },
  {
   "cell_type": "code",
   "execution_count": 146,
   "metadata": {},
   "outputs": [],
   "source": [
    "for i, line in enumerate(easy_input):\n",
    "    for j, elem in enumerate([int(n) for n in line]):\n",
    "        g.set_vertex((i, j), (elem, False))"
   ]
  },
  {
   "cell_type": "code",
   "execution_count": 147,
   "metadata": {},
   "outputs": [],
   "source": [
    "def flash(p, vertex):\n",
    "    for neighbour in p.neighbors(vertex):\n",
    "        energy, has_flashed = p.get_vertex(neighbour)\n",
    "        energy += 1\n",
    "        if energy > 9 and not has_flashed:\n",
    "            has_flashed = True\n",
    "            p.set_vertex(neighbour, (energy, has_flashed))\n",
    "            flash(p, neighbour)\n",
    "        else:\n",
    "            p.set_vertex(neighbour, (energy, has_flashed))\n",
    "\n",
    "def step(p):\n",
    "    flashes = 0\n",
    "    for vertex in p.vertices():\n",
    "        energy, has_flashed = p.get_vertex(vertex)\n",
    "        energy += 1\n",
    "        p.set_vertex(vertex, (energy, has_flashed))\n",
    "    for vertex in p.vertices():\n",
    "        energy, has_flashed = p.get_vertex(vertex)\n",
    "        if energy > 9 and not has_flashed:\n",
    "            has_flashed = True\n",
    "            p.set_vertex(vertex, (energy, has_flashed))\n",
    "            flash(p, vertex)\n",
    "    for vertex in p.vertices():\n",
    "        energy, has_flashed = p.get_vertex(vertex)\n",
    "        if has_flashed:\n",
    "            energy = 0\n",
    "            has_flashed = False\n",
    "            flashes += 1\n",
    "        p.set_vertex(vertex, (energy, has_flashed))\n",
    "    return flashes"
   ]
  },
  {
   "cell_type": "code",
   "execution_count": 148,
   "metadata": {},
   "outputs": [
    {
     "name": "stdout",
     "output_type": "stream",
     "text": [
      "Part 1:  1656\n"
     ]
    }
   ],
   "source": [
    "# Part 1\n",
    "flashes = 0\n",
    "for i in range(100):\n",
    "    flashes += step(g)\n",
    "    # for v in range(v_c):\n",
    "    #    print([g.get_vertex((v,h))[0] for h in range(h_c)])\n",
    "    # print(\"-----\")\n",
    "print(\"Part 1: \", flashes)"
   ]
  },
  {
   "cell_type": "code",
   "execution_count": 149,
   "metadata": {},
   "outputs": [
    {
     "name": "stdout",
     "output_type": "stream",
     "text": [
      "Part 2:  235\n"
     ]
    }
   ],
   "source": [
    "# Part 2\n",
    "for i, line in enumerate(input_grid):\n",
    "    for j, elem in enumerate([int(n) for n in line]):\n",
    "        g.set_vertex((i, j), (elem, False))\n",
    "\n",
    "steps = 0\n",
    "while True:\n",
    "    step(g)\n",
    "    # for v in range(v_c):\n",
    "    #    print([g.get_vertex((v,h))[0] for h in range(h_c)])\n",
    "    # print(\"-----\")\n",
    "    next_step = False\n",
    "    for vertex in g.vertices():\n",
    "        if g.get_vertex(vertex)[0] != 0:\n",
    "            next_step = True\n",
    "            break\n",
    "    steps += 1\n",
    "    if not next_step:\n",
    "        break\n",
    "print(\"Part 2: \", steps)"
   ]
  }
 ],
 "metadata": {
  "kernelspec": {
   "display_name": "SageMath 9.3",
   "language": "sage",
   "name": "sagemath"
  },
  "language_info": {
   "codemirror_mode": {
    "name": "ipython",
    "version": 3
   },
   "file_extension": ".py",
   "mimetype": "text/x-python",
   "name": "python",
   "nbconvert_exporter": "python",
   "pygments_lexer": "ipython3",
   "version": "3.7.10"
  }
 },
 "nbformat": 4,
 "nbformat_minor": 4
}
